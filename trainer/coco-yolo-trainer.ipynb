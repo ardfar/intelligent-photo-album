{
 "cells": [
  {
   "cell_type": "markdown",
   "metadata": {},
   "source": [
    "# YOLO Custom training on COCO "
   ]
  },
  {
   "cell_type": "markdown",
   "metadata": {},
   "source": [
    "Training YOLO (You Only Look Once) SoTA of Computer Vision on COCO (Common Objects in Context) dataset"
   ]
  },
  {
   "cell_type": "markdown",
   "metadata": {},
   "source": [
    "Library Import"
   ]
  },
  {
   "cell_type": "code",
   "execution_count": null,
   "metadata": {},
   "outputs": [],
   "source": [
    "from ultralytics import YOLO\n",
    "import torch"
   ]
  },
  {
   "cell_type": "markdown",
   "metadata": {},
   "source": [
    "Load YOLO model configuration"
   ]
  },
  {
   "cell_type": "code",
   "execution_count": null,
   "metadata": {},
   "outputs": [],
   "source": [
    "model = YOLO(\"yolov8s.yaml\")"
   ]
  },
  {
   "cell_type": "markdown",
   "metadata": {},
   "source": [
    "Fine-tuning (First Try)"
   ]
  },
  {
   "cell_type": "code",
   "execution_count": null,
   "metadata": {},
   "outputs": [],
   "source": [
    "results = model.train(\n",
    "    data=\"coco8.yaml\", \n",
    "    epochs=5, \n",
    "    imgsz=416,\n",
    "    device=\"cuda:0\",\n",
    "    int8=True,\n",
    "    dynamic=True,\n",
    "    simplify=True,\n",
    "    optimizer=\"SGD\",\n",
    "    lr0=0.001,\n",
    "    cache=False, \n",
    "    workers=0\n",
    "    )"
   ]
  },
  {
   "cell_type": "markdown",
   "metadata": {},
   "source": [
    "Fine-Tuning (Second Try)"
   ]
  },
  {
   "cell_type": "code",
   "execution_count": null,
   "metadata": {},
   "outputs": [],
   "source": [
    "results = model.train(\n",
    "    data=\"coco8.yaml\", \n",
    "    epochs=5, \n",
    "    imgsz=416,\n",
    "    fraction=0.1,\n",
    "    device=\"cuda:0\",\n",
    "    dynamic=True,\n",
    "    optimizer=\"AdamW\",\n",
    "    lr0=0.001,\n",
    "    cache=False, \n",
    "    workers=0\n",
    "    )"
   ]
  },
  {
   "cell_type": "markdown",
   "metadata": {},
   "source": [
    "Fine-Tuning (Third Try)"
   ]
  },
  {
   "cell_type": "code",
   "execution_count": null,
   "metadata": {},
   "outputs": [],
   "source": [
    "results = model.train(\n",
    "    data=\"coco8.yaml\", \n",
    "    epochs=5, \n",
    "    imgsz=512,\n",
    "    fraction=0.7,\n",
    "    device=\"cuda:0\",\n",
    "    dynamic=True,\n",
    "    optimizer=\"AdamW\",\n",
    "    lr0=0.001,\n",
    "    cache=False, \n",
    "    workers=0\n",
    "    )"
   ]
  },
  {
   "cell_type": "markdown",
   "metadata": {},
   "source": [
    "Fine-Tuning (4th)"
   ]
  },
  {
   "cell_type": "code",
   "execution_count": null,
   "metadata": {},
   "outputs": [],
   "source": [
    "results = model.train(\n",
    "    data=\"coco8.yaml\", \n",
    "    epochs=25, \n",
    "    imgsz=640,\n",
    "    fraction=0.75,\n",
    "    device=\"cuda:0\",\n",
    "    dynamic=True,\n",
    "    optimizer=\"AdamW\",\n",
    "    lr0=0.001,\n",
    "    cache=False, \n",
    "    workers=0\n",
    "    )"
   ]
  },
  {
   "cell_type": "markdown",
   "metadata": {},
   "source": [
    "Fine-Tuning (5th)"
   ]
  },
  {
   "cell_type": "code",
   "execution_count": null,
   "metadata": {},
   "outputs": [],
   "source": [
    "results = model.train(\n",
    "    data=\"coco8.yaml\", \n",
    "    epochs=50, \n",
    "    imgsz=768,\n",
    "    iou=0.65,\n",
    "    device=\"cuda:0\",\n",
    "    dynamic=True,\n",
    "    optimizer=\"AdamW\",\n",
    "    lr0=0.002,\n",
    "    cache=False, \n",
    "    workers=0\n",
    "    )"
   ]
  }
 ],
 "metadata": {
  "language_info": {
   "name": "python"
  }
 },
 "nbformat": 4,
 "nbformat_minor": 2
}
